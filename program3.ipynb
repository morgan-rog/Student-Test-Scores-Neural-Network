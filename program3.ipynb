{
 "cells": [
  {
   "cell_type": "code",
   "execution_count": 1,
   "metadata": {},
   "outputs": [],
   "source": [
    "from sklearn.model_selection import train_test_split\n",
    "import pandas as pd\n",
    "import numpy as np\n",
    "from keras.models import Sequential\n",
    "from keras.layers import Dense, Input\n",
    "from matplotlib import pyplot as plt"
   ]
  },
  {
   "cell_type": "code",
   "execution_count": 2,
   "metadata": {},
   "outputs": [
    {
     "data": {
      "text/html": [
       "<div>\n",
       "<style scoped>\n",
       "    .dataframe tbody tr th:only-of-type {\n",
       "        vertical-align: middle;\n",
       "    }\n",
       "\n",
       "    .dataframe tbody tr th {\n",
       "        vertical-align: top;\n",
       "    }\n",
       "\n",
       "    .dataframe thead th {\n",
       "        text-align: right;\n",
       "    }\n",
       "</style>\n",
       "<table border=\"1\" class=\"dataframe\">\n",
       "  <thead>\n",
       "    <tr style=\"text-align: right;\">\n",
       "      <th></th>\n",
       "      <th>gender</th>\n",
       "      <th>race/ethnicity</th>\n",
       "      <th>parental level of education</th>\n",
       "      <th>lunch</th>\n",
       "      <th>test preparation course</th>\n",
       "      <th>math score</th>\n",
       "      <th>reading score</th>\n",
       "      <th>writing score</th>\n",
       "    </tr>\n",
       "  </thead>\n",
       "  <tbody>\n",
       "    <tr>\n",
       "      <th>0</th>\n",
       "      <td>female</td>\n",
       "      <td>group B</td>\n",
       "      <td>bachelor's degree</td>\n",
       "      <td>standard</td>\n",
       "      <td>none</td>\n",
       "      <td>72</td>\n",
       "      <td>72</td>\n",
       "      <td>74</td>\n",
       "    </tr>\n",
       "    <tr>\n",
       "      <th>1</th>\n",
       "      <td>female</td>\n",
       "      <td>group C</td>\n",
       "      <td>some college</td>\n",
       "      <td>standard</td>\n",
       "      <td>completed</td>\n",
       "      <td>69</td>\n",
       "      <td>90</td>\n",
       "      <td>88</td>\n",
       "    </tr>\n",
       "    <tr>\n",
       "      <th>2</th>\n",
       "      <td>female</td>\n",
       "      <td>group B</td>\n",
       "      <td>master's degree</td>\n",
       "      <td>standard</td>\n",
       "      <td>none</td>\n",
       "      <td>90</td>\n",
       "      <td>95</td>\n",
       "      <td>93</td>\n",
       "    </tr>\n",
       "    <tr>\n",
       "      <th>3</th>\n",
       "      <td>male</td>\n",
       "      <td>group A</td>\n",
       "      <td>associate's degree</td>\n",
       "      <td>free/reduced</td>\n",
       "      <td>none</td>\n",
       "      <td>47</td>\n",
       "      <td>57</td>\n",
       "      <td>44</td>\n",
       "    </tr>\n",
       "    <tr>\n",
       "      <th>4</th>\n",
       "      <td>male</td>\n",
       "      <td>group C</td>\n",
       "      <td>some college</td>\n",
       "      <td>standard</td>\n",
       "      <td>none</td>\n",
       "      <td>76</td>\n",
       "      <td>78</td>\n",
       "      <td>75</td>\n",
       "    </tr>\n",
       "  </tbody>\n",
       "</table>\n",
       "</div>"
      ],
      "text/plain": [
       "   gender race/ethnicity parental level of education         lunch  \\\n",
       "0  female        group B           bachelor's degree      standard   \n",
       "1  female        group C                some college      standard   \n",
       "2  female        group B             master's degree      standard   \n",
       "3    male        group A          associate's degree  free/reduced   \n",
       "4    male        group C                some college      standard   \n",
       "\n",
       "  test preparation course  math score  reading score  writing score  \n",
       "0                    none          72             72             74  \n",
       "1               completed          69             90             88  \n",
       "2                    none          90             95             93  \n",
       "3                    none          47             57             44  \n",
       "4                    none          76             78             75  "
      ]
     },
     "execution_count": 2,
     "metadata": {},
     "output_type": "execute_result"
    }
   ],
   "source": [
    "dataset = pd.read_csv(\"StudentsPerformance.csv\")\n",
    "dataset.head(5)"
   ]
  },
  {
   "cell_type": "code",
   "execution_count": 3,
   "metadata": {},
   "outputs": [],
   "source": [
    "x = dataset.iloc[:,0:5]\n",
    "y = dataset.iloc[:, 5:]\n",
    "math_scores_y = dataset.iloc[:,5]\n",
    "reading_scores_y = dataset.iloc[:,6]\n",
    "writing_scores_y = dataset.iloc[:,7]"
   ]
  },
  {
   "cell_type": "markdown",
   "metadata": {},
   "source": [
    "# One hot encode inputs"
   ]
  },
  {
   "cell_type": "code",
   "execution_count": 4,
   "metadata": {},
   "outputs": [
    {
     "name": "stdout",
     "output_type": "stream",
     "text": [
      "     gender_male  race/ethnicity_group B  race/ethnicity_group C  \\\n",
      "0              0                       1                       0   \n",
      "1              0                       0                       1   \n",
      "2              0                       1                       0   \n",
      "3              1                       0                       0   \n",
      "4              1                       0                       1   \n",
      "..           ...                     ...                     ...   \n",
      "995            0                       0                       0   \n",
      "996            1                       0                       1   \n",
      "997            0                       0                       1   \n",
      "998            0                       0                       0   \n",
      "999            0                       0                       0   \n",
      "\n",
      "     race/ethnicity_group D  race/ethnicity_group E  \\\n",
      "0                         0                       0   \n",
      "1                         0                       0   \n",
      "2                         0                       0   \n",
      "3                         0                       0   \n",
      "4                         0                       0   \n",
      "..                      ...                     ...   \n",
      "995                       0                       1   \n",
      "996                       0                       0   \n",
      "997                       0                       0   \n",
      "998                       1                       0   \n",
      "999                       1                       0   \n",
      "\n",
      "     parental level of education_bachelor's degree  \\\n",
      "0                                                1   \n",
      "1                                                0   \n",
      "2                                                0   \n",
      "3                                                0   \n",
      "4                                                0   \n",
      "..                                             ...   \n",
      "995                                              0   \n",
      "996                                              0   \n",
      "997                                              0   \n",
      "998                                              0   \n",
      "999                                              0   \n",
      "\n",
      "     parental level of education_high school  \\\n",
      "0                                          0   \n",
      "1                                          0   \n",
      "2                                          0   \n",
      "3                                          0   \n",
      "4                                          0   \n",
      "..                                       ...   \n",
      "995                                        0   \n",
      "996                                        1   \n",
      "997                                        1   \n",
      "998                                        0   \n",
      "999                                        0   \n",
      "\n",
      "     parental level of education_master's degree  \\\n",
      "0                                              0   \n",
      "1                                              0   \n",
      "2                                              1   \n",
      "3                                              0   \n",
      "4                                              0   \n",
      "..                                           ...   \n",
      "995                                            1   \n",
      "996                                            0   \n",
      "997                                            0   \n",
      "998                                            0   \n",
      "999                                            0   \n",
      "\n",
      "     parental level of education_some college  \\\n",
      "0                                           0   \n",
      "1                                           1   \n",
      "2                                           0   \n",
      "3                                           0   \n",
      "4                                           1   \n",
      "..                                        ...   \n",
      "995                                         0   \n",
      "996                                         0   \n",
      "997                                         0   \n",
      "998                                         1   \n",
      "999                                         1   \n",
      "\n",
      "     parental level of education_some high school  lunch_standard  \\\n",
      "0                                               0               1   \n",
      "1                                               0               1   \n",
      "2                                               0               1   \n",
      "3                                               0               0   \n",
      "4                                               0               1   \n",
      "..                                            ...             ...   \n",
      "995                                             0               1   \n",
      "996                                             0               0   \n",
      "997                                             0               0   \n",
      "998                                             0               1   \n",
      "999                                             0               0   \n",
      "\n",
      "     test preparation course_none  \n",
      "0                               1  \n",
      "1                               0  \n",
      "2                               1  \n",
      "3                               1  \n",
      "4                               1  \n",
      "..                            ...  \n",
      "995                             0  \n",
      "996                             1  \n",
      "997                             0  \n",
      "998                             0  \n",
      "999                             1  \n",
      "\n",
      "[1000 rows x 12 columns]\n"
     ]
    }
   ],
   "source": [
    "x = pd.get_dummies(x, drop_first=True)\n",
    "print(x)"
   ]
  },
  {
   "cell_type": "markdown",
   "metadata": {},
   "source": [
    "# Split into training and testing datasets"
   ]
  },
  {
   "cell_type": "code",
   "execution_count": 5,
   "metadata": {},
   "outputs": [],
   "source": [
    "X_train, X_test, y_train, y_test = train_test_split(x, y, test_size=0.3, random_state=10)"
   ]
  },
  {
   "cell_type": "markdown",
   "metadata": {},
   "source": [
    "# Create model"
   ]
  },
  {
   "cell_type": "code",
   "execution_count": 6,
   "metadata": {},
   "outputs": [
    {
     "name": "stdout",
     "output_type": "stream",
     "text": [
      "Model: \"sequential\"\n",
      "_________________________________________________________________\n",
      " Layer (type)                Output Shape              Param #   \n",
      "=================================================================\n",
      " dense (Dense)               (None, 64)                832       \n",
      "                                                                 \n",
      " dense_1 (Dense)             (None, 3)                 195       \n",
      "                                                                 \n",
      "=================================================================\n",
      "Total params: 1,027\n",
      "Trainable params: 1,027\n",
      "Non-trainable params: 0\n",
      "_________________________________________________________________\n"
     ]
    }
   ],
   "source": [
    "def create_model():\n",
    "    model = Sequential()\n",
    "    model.add(Input(shape=(12,)))\n",
    "    model.add(Dense(64, activation='relu'))\n",
    "    model.add(Dense(3, activation='softmax'))\n",
    "    return model\n",
    "    \n",
    "my_model = create_model()\n",
    "my_model.summary()"
   ]
  },
  {
   "cell_type": "code",
   "execution_count": 7,
   "metadata": {},
   "outputs": [
    {
     "name": "stdout",
     "output_type": "stream",
     "text": [
      "Epoch 1/20\n",
      "22/22 [==============================] - 0s 6ms/step - loss: 4756.9565 - accuracy: 0.4400 - val_loss: 4812.4097 - val_accuracy: 0.3567\n",
      "Epoch 2/20\n",
      "22/22 [==============================] - 0s 2ms/step - loss: 4756.6777 - accuracy: 0.4271 - val_loss: 4812.2598 - val_accuracy: 0.3467\n",
      "Epoch 3/20\n",
      "22/22 [==============================] - 0s 2ms/step - loss: 4756.4868 - accuracy: 0.4343 - val_loss: 4812.1411 - val_accuracy: 0.3533\n",
      "Epoch 4/20\n",
      "22/22 [==============================] - 0s 2ms/step - loss: 4756.3530 - accuracy: 0.4400 - val_loss: 4812.0332 - val_accuracy: 0.3600\n",
      "Epoch 5/20\n",
      "22/22 [==============================] - 0s 2ms/step - loss: 4756.2192 - accuracy: 0.4514 - val_loss: 4811.8687 - val_accuracy: 0.3900\n",
      "Epoch 6/20\n",
      "22/22 [==============================] - 0s 2ms/step - loss: 4756.0684 - accuracy: 0.5071 - val_loss: 4811.6250 - val_accuracy: 0.5633\n",
      "Epoch 7/20\n",
      "22/22 [==============================] - 0s 2ms/step - loss: 4755.8921 - accuracy: 0.5800 - val_loss: 4811.4092 - val_accuracy: 0.6033\n",
      "Epoch 8/20\n",
      "22/22 [==============================] - 0s 2ms/step - loss: 4755.7334 - accuracy: 0.6114 - val_loss: 4811.2480 - val_accuracy: 0.6467\n",
      "Epoch 9/20\n",
      "22/22 [==============================] - 0s 2ms/step - loss: 4755.6074 - accuracy: 0.6057 - val_loss: 4811.1279 - val_accuracy: 0.6400\n",
      "Epoch 10/20\n",
      "22/22 [==============================] - 0s 2ms/step - loss: 4755.5166 - accuracy: 0.6100 - val_loss: 4811.0342 - val_accuracy: 0.6433\n",
      "Epoch 11/20\n",
      "22/22 [==============================] - 0s 2ms/step - loss: 4755.4507 - accuracy: 0.6171 - val_loss: 4810.9834 - val_accuracy: 0.6367\n",
      "Epoch 12/20\n",
      "22/22 [==============================] - 0s 2ms/step - loss: 4755.4038 - accuracy: 0.6157 - val_loss: 4810.9346 - val_accuracy: 0.6500\n",
      "Epoch 13/20\n",
      "22/22 [==============================] - 0s 2ms/step - loss: 4755.3677 - accuracy: 0.6157 - val_loss: 4810.9092 - val_accuracy: 0.6433\n",
      "Epoch 14/20\n",
      "22/22 [==============================] - 0s 2ms/step - loss: 4755.3398 - accuracy: 0.6186 - val_loss: 4810.8955 - val_accuracy: 0.6433\n",
      "Epoch 15/20\n",
      "22/22 [==============================] - 0s 2ms/step - loss: 4755.3174 - accuracy: 0.6171 - val_loss: 4810.8730 - val_accuracy: 0.6433\n",
      "Epoch 16/20\n",
      "22/22 [==============================] - 0s 2ms/step - loss: 4755.2983 - accuracy: 0.6186 - val_loss: 4810.8628 - val_accuracy: 0.6467\n",
      "Epoch 17/20\n",
      "22/22 [==============================] - 0s 2ms/step - loss: 4755.2842 - accuracy: 0.6186 - val_loss: 4810.8550 - val_accuracy: 0.6467\n",
      "Epoch 18/20\n",
      "22/22 [==============================] - 0s 2ms/step - loss: 4755.2715 - accuracy: 0.6229 - val_loss: 4810.8560 - val_accuracy: 0.6433\n",
      "Epoch 19/20\n",
      "22/22 [==============================] - 0s 2ms/step - loss: 4755.2583 - accuracy: 0.6229 - val_loss: 4810.8447 - val_accuracy: 0.6433\n",
      "Epoch 20/20\n",
      "22/22 [==============================] - 0s 2ms/step - loss: 4755.2476 - accuracy: 0.6229 - val_loss: 4810.8389 - val_accuracy: 0.6500\n"
     ]
    },
    {
     "data": {
      "text/plain": [
       "<keras.callbacks.History at 0x1a97559d100>"
      ]
     },
     "execution_count": 7,
     "metadata": {},
     "output_type": "execute_result"
    }
   ],
   "source": [
    "my_model.compile(loss='mse', optimizer='adam', metrics=['accuracy'])\n",
    "my_model.fit(X_train, y_train, validation_data=(X_test, y_test), epochs=20, verbose=1, shuffle=True)"
   ]
  }
 ],
 "metadata": {
  "interpreter": {
   "hash": "ea430ea9b71546e283c838f7623edf4343ce3aee095c1da970a587b5165e5b87"
  },
  "kernelspec": {
   "display_name": "Python 3.8.12 64-bit ('mogan_env': conda)",
   "language": "python",
   "name": "python3"
  },
  "language_info": {
   "codemirror_mode": {
    "name": "ipython",
    "version": 3
   },
   "file_extension": ".py",
   "mimetype": "text/x-python",
   "name": "python",
   "nbconvert_exporter": "python",
   "pygments_lexer": "ipython3",
   "version": "3.8.12"
  },
  "orig_nbformat": 4
 },
 "nbformat": 4,
 "nbformat_minor": 2
}
